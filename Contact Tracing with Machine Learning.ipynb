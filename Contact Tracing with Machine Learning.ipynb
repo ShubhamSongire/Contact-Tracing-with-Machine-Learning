{
 "cells": [
  {
   "cell_type": "markdown",
   "id": "b4f695b9",
   "metadata": {},
   "source": [
    "# Code..."
   ]
  },
  {
   "cell_type": "code",
   "execution_count": 1,
   "id": "c0bfefee",
   "metadata": {},
   "outputs": [],
   "source": [
    "# importing all necessary libraries\n",
    "import numpy as np \n",
    "import pandas as pd\n",
    "import seaborn as sns\n",
    "import matplotlib.pyplot as plt\n",
    "import datetime as dt\n",
    "\n",
    "%matplotlib inline"
   ]
  },
  {
   "cell_type": "code",
   "execution_count": 2,
   "id": "678e94a5",
   "metadata": {},
   "outputs": [
    {
     "data": {
      "text/html": [
       "<div>\n",
       "<style scoped>\n",
       "    .dataframe tbody tr th:only-of-type {\n",
       "        vertical-align: middle;\n",
       "    }\n",
       "\n",
       "    .dataframe tbody tr th {\n",
       "        vertical-align: top;\n",
       "    }\n",
       "\n",
       "    .dataframe thead th {\n",
       "        text-align: right;\n",
       "    }\n",
       "</style>\n",
       "<table border=\"1\" class=\"dataframe\">\n",
       "  <thead>\n",
       "    <tr style=\"text-align: right;\">\n",
       "      <th></th>\n",
       "      <th>id</th>\n",
       "      <th>timestamp</th>\n",
       "      <th>latitude</th>\n",
       "      <th>longitude</th>\n",
       "    </tr>\n",
       "  </thead>\n",
       "  <tbody>\n",
       "    <tr>\n",
       "      <th>0</th>\n",
       "      <td>David</td>\n",
       "      <td>2020-07-04 15:35:30</td>\n",
       "      <td>13.148953</td>\n",
       "      <td>77.593651</td>\n",
       "    </tr>\n",
       "    <tr>\n",
       "      <th>1</th>\n",
       "      <td>David</td>\n",
       "      <td>2020-07-04 16:35:30</td>\n",
       "      <td>13.222397</td>\n",
       "      <td>77.652828</td>\n",
       "    </tr>\n",
       "    <tr>\n",
       "      <th>2</th>\n",
       "      <td>Frank</td>\n",
       "      <td>2020-07-04 14:35:30</td>\n",
       "      <td>13.236507</td>\n",
       "      <td>77.693792</td>\n",
       "    </tr>\n",
       "    <tr>\n",
       "      <th>3</th>\n",
       "      <td>Carol</td>\n",
       "      <td>2020-07-04 21:35:30</td>\n",
       "      <td>13.163716</td>\n",
       "      <td>77.562842</td>\n",
       "    </tr>\n",
       "    <tr>\n",
       "      <th>4</th>\n",
       "      <td>Ivan</td>\n",
       "      <td>2020-07-04 22:35:30</td>\n",
       "      <td>13.232095</td>\n",
       "      <td>77.580273</td>\n",
       "    </tr>\n",
       "    <tr>\n",
       "      <th>...</th>\n",
       "      <td>...</td>\n",
       "      <td>...</td>\n",
       "      <td>...</td>\n",
       "      <td>...</td>\n",
       "    </tr>\n",
       "    <tr>\n",
       "      <th>95</th>\n",
       "      <td>Judy</td>\n",
       "      <td>2020-07-04 16:35:30</td>\n",
       "      <td>13.176481</td>\n",
       "      <td>77.619396</td>\n",
       "    </tr>\n",
       "    <tr>\n",
       "      <th>96</th>\n",
       "      <td>Bob</td>\n",
       "      <td>2020-07-04 15:35:30</td>\n",
       "      <td>13.172339</td>\n",
       "      <td>77.662080</td>\n",
       "    </tr>\n",
       "    <tr>\n",
       "      <th>97</th>\n",
       "      <td>Grace</td>\n",
       "      <td>2020-07-04 23:35:30</td>\n",
       "      <td>13.115079</td>\n",
       "      <td>77.697991</td>\n",
       "    </tr>\n",
       "    <tr>\n",
       "      <th>98</th>\n",
       "      <td>Bob</td>\n",
       "      <td>2020-07-04 19:35:30</td>\n",
       "      <td>13.180751</td>\n",
       "      <td>77.704404</td>\n",
       "    </tr>\n",
       "    <tr>\n",
       "      <th>99</th>\n",
       "      <td>Alice</td>\n",
       "      <td>2020-07-04 19:35:30</td>\n",
       "      <td>13.206235</td>\n",
       "      <td>77.595245</td>\n",
       "    </tr>\n",
       "  </tbody>\n",
       "</table>\n",
       "<p>100 rows × 4 columns</p>\n",
       "</div>"
      ],
      "text/plain": [
       "       id           timestamp   latitude  longitude\n",
       "0   David 2020-07-04 15:35:30  13.148953  77.593651\n",
       "1   David 2020-07-04 16:35:30  13.222397  77.652828\n",
       "2   Frank 2020-07-04 14:35:30  13.236507  77.693792\n",
       "3   Carol 2020-07-04 21:35:30  13.163716  77.562842\n",
       "4    Ivan 2020-07-04 22:35:30  13.232095  77.580273\n",
       "..    ...                 ...        ...        ...\n",
       "95   Judy 2020-07-04 16:35:30  13.176481  77.619396\n",
       "96    Bob 2020-07-04 15:35:30  13.172339  77.662080\n",
       "97  Grace 2020-07-04 23:35:30  13.115079  77.697991\n",
       "98    Bob 2020-07-04 19:35:30  13.180751  77.704404\n",
       "99  Alice 2020-07-04 19:35:30  13.206235  77.595245\n",
       "\n",
       "[100 rows x 4 columns]"
      ]
     },
     "execution_count": 2,
     "metadata": {},
     "output_type": "execute_result"
    }
   ],
   "source": [
    "# importing data\n",
    "df = pd.read_json('livedata.json')\n",
    "df"
   ]
  },
  {
   "cell_type": "code",
   "execution_count": 3,
   "id": "62b1cf92",
   "metadata": {},
   "outputs": [
    {
     "data": {
      "text/plain": [
       "id           0\n",
       "timestamp    0\n",
       "latitude     0\n",
       "longitude    0\n",
       "dtype: int64"
      ]
     },
     "execution_count": 3,
     "metadata": {},
     "output_type": "execute_result"
    }
   ],
   "source": [
    "# checking for null values in data\n",
    "df.isnull().sum()"
   ]
  },
  {
   "cell_type": "code",
   "execution_count": 4,
   "id": "12196396",
   "metadata": {
    "scrolled": true
   },
   "outputs": [
    {
     "name": "stderr",
     "output_type": "stream",
     "text": [
      "c:\\users\\admin\\appdata\\local\\programs\\python\\python38\\lib\\site-packages\\seaborn\\_decorators.py:36: FutureWarning: Pass the following variables as keyword args: x, y. From version 0.12, the only valid positional argument will be `data`, and passing other arguments without an explicit keyword will result in an error or misinterpretation.\n",
      "  warnings.warn(\n"
     ]
    },
    {
     "data": {
      "image/png": "[encoded data removed]",
      "text/plain": [
       "<Figure size 864x864 with 1 Axes>"
      ]
     },
     "metadata": {
      "needs_background": "light"
     },
     "output_type": "display_data"
    }
   ],
   "source": [
    "# plotting the graph using latitude and longitude values \n",
    "plt.figure(figsize=(12,12))\n",
    "sns.scatterplot(df['latitude'], df['longitude'], hue=[x for x in df['id']])\n",
    "plt.legend(bbox_to_anchor = [1, 1])\n",
    "plt.title('Travel History Graph', {'fontsize': 20, 'color':'red'})\n",
    "plt.savefig('Travel History Graph')\n",
    "plt.show();"
   ]
  },
  {
   "cell_type": "code",
   "execution_count": 5,
   "id": "0e63d388",
   "metadata": {},
   "outputs": [
    {
     "name": "stdout",
     "output_type": "stream",
     "text": [
      "Judy had come in contact with the patient.\n"
     ]
    }
   ],
   "source": [
    "# applying DBSCAN algorithm to find peoples who came in contact with each other \n",
    "from sklearn.cluster import DBSCAN\n",
    "def get_infected_name(input_name):\n",
    "    # 6 feet to kilometers\n",
    "    epsilon =0.0018288 \n",
    "    model = DBSCAN(eps=epsilon, min_samples=2, metric='haversine').fit(df[['latitude', 'longitude']])\n",
    "    df['cluster'] = model.labels_.tolist()\n",
    "    cluster_id_lst = df['cluster'].unique()\n",
    "        \n",
    "    # appending all the infected peoples who came in contact with patient.\n",
    "    infected = []\n",
    "    for i in cluster_id_lst:\n",
    "        if i!=-1:\n",
    "            f = df[df['cluster']==i]\n",
    "            names = list(f.iloc[:,0])\n",
    "            for j in names:\n",
    "                if j not in infected:\n",
    "                    if j!=input_name:\n",
    "                        infected.append(j)\n",
    "    if len(infected)==0:\n",
    "        print('No one came in contact with the patient.')\n",
    "    elif len(infected)==1:\n",
    "        print(\"%s had come in contact with the patient.\"%infected[0])\n",
    "    else:\n",
    "        print(\"The following people came in contact with the patient:- \\n\",infected)\n",
    "\n",
    "get_infected_name('Bob')"
   ]
  },
  {
   "cell_type": "code",
   "execution_count": 6,
   "id": "a06d918b",
   "metadata": {
    "scrolled": false
   },
   "outputs": [
    {
     "data": {
      "text/html": [
       "<div>\n",
       "<style scoped>\n",
       "    .dataframe tbody tr th:only-of-type {\n",
       "        vertical-align: middle;\n",
       "    }\n",
       "\n",
       "    .dataframe tbody tr th {\n",
       "        vertical-align: top;\n",
       "    }\n",
       "\n",
       "    .dataframe thead th {\n",
       "        text-align: right;\n",
       "    }\n",
       "</style>\n",
       "<table border=\"1\" class=\"dataframe\">\n",
       "  <thead>\n",
       "    <tr style=\"text-align: right;\">\n",
       "      <th></th>\n",
       "      <th>id</th>\n",
       "      <th>timestamp</th>\n",
       "      <th>latitude</th>\n",
       "      <th>longitude</th>\n",
       "      <th>cluster</th>\n",
       "    </tr>\n",
       "  </thead>\n",
       "  <tbody>\n",
       "    <tr>\n",
       "      <th>45</th>\n",
       "      <td>Judy</td>\n",
       "      <td>2020-07-04 15:35:30</td>\n",
       "      <td>13.077005</td>\n",
       "      <td>77.705144</td>\n",
       "      <td>0</td>\n",
       "    </tr>\n",
       "    <tr>\n",
       "      <th>89</th>\n",
       "      <td>Bob</td>\n",
       "      <td>2020-07-04 15:35:30</td>\n",
       "      <td>13.076776</td>\n",
       "      <td>77.704233</td>\n",
       "      <td>0</td>\n",
       "    </tr>\n",
       "  </tbody>\n",
       "</table>\n",
       "</div>"
      ],
      "text/plain": [
       "      id           timestamp   latitude  longitude  cluster\n",
       "45  Judy 2020-07-04 15:35:30  13.077005  77.705144        0\n",
       "89   Bob 2020-07-04 15:35:30  13.076776  77.704233        0"
      ]
     },
     "execution_count": 6,
     "metadata": {},
     "output_type": "execute_result"
    }
   ],
   "source": [
    "# Manually cross-checking above solution\n",
    "z = df[df['cluster']==0] # cluster-0 peoples\n",
    "z  "
   ]
  },
  {
   "cell_type": "markdown",
   "id": "bbb03aa3",
   "metadata": {},
   "source": [
    "- `In the above output, we can see that only 2 people in this cluster so when we have given Bob as patent our program has given Judy as an infected person`"
   ]
  },
  {
   "cell_type": "code",
   "execution_count": 14,
   "id": "4645ee00",
   "metadata": {},
   "outputs": [
    {
     "name": "stdout",
     "output_type": "stream",
     "text": [
      "0.0009398505519500778 km\n"
     ]
    }
   ],
   "source": [
    "# Distance b/w this two peoples in km\n",
    "lat =  z.iloc[0,2]-z.iloc[1,2]   \n",
    "long = z.iloc[0,3]-z.iloc[1,3]\n",
    "dist = np.sqrt((lat*lat)+(long*long))\n",
    "print(dist, \"km\")"
   ]
  },
  {
   "cell_type": "markdown",
   "id": "eb5d89b0",
   "metadata": {},
   "source": [
    "- `This distance is less than 6 feet (0.0018288 km). So our program is perfect.`"
   ]
  },
  {
   "cell_type": "markdown",
   "id": "d8b1b7bc",
   "metadata": {},
   "source": [
    "### Thank You!"
   ]
  }
 ],
 "metadata": {
  "kernelspec": {
   "display_name": "Python 3",
   "language": "python",
   "name": "python3"
  },
  "language_info": {
   "codemirror_mode": {
    "name": "ipython",
    "version": 3
   },
   "file_extension": ".py",
   "mimetype": "text/x-python",
   "name": "python",
   "nbconvert_exporter": "python",
   "pygments_lexer": "ipython3",
   "version": "3.8.5"
  }
 },
 "nbformat": 4,
 "nbformat_minor": 5
}
